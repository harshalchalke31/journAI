{
 "cells": [
  {
   "cell_type": "markdown",
   "metadata": {},
   "source": [
    "## Dependencies"
   ]
  },
  {
   "cell_type": "code",
   "execution_count": null,
   "metadata": {},
   "outputs": [
    {
     "data": {
      "text/plain": [
       "'c:\\\\Projects\\\\python\\\\journAI'"
      ]
     },
     "execution_count": 1,
     "metadata": {},
     "output_type": "execute_result"
    }
   ],
   "source": [
    "import os\n",
    "from dotenv import load_dotenv\n",
    "from langchain_openai import ChatOpenAI\n",
    "from langchain_core.output_parsers import StrOutputParser\n",
    "from langchain_core.prompts import ChatPromptTemplate, SystemMessagePromptTemplate, HumanMessagePromptTemplate, MessagesPlaceholder\n",
    "from langchain_text_splitters import RecursiveCharacterTextSplitter\n",
    "from langchain_community.document_loaders import Docx2txtLoader\n",
    "from langchain_community.embeddings.sentence_transformer import SentenceTransformerEmbeddings\n",
    "from langchain.embeddings import OpenAIEmbeddings\n",
    "from langchain_chroma import Chroma\n",
    "from langchain.schema.runnable import RunnablePassthrough\n",
    "from langchain_core.messages import HumanMessage, AIMessage\n",
    "from langchain_groq import ChatGroq\n",
    "from langchain.chains import create_history_aware_retriever, create_retrieval_chain\n",
    "from langchain.chains.combine_documents import create_stuff_documents_chain\n",
    "load_dotenv()\n",
    "import hashlib\n",
    "\n",
    "\n",
    "docx_path = '.\\\\data\\\\text_data\\\\'\n",
    "\n",
    "os.chdir('../')\n",
    "%pwd"
   ]
  },
  {
   "cell_type": "markdown",
   "metadata": {},
   "source": [
    "## RAG pipeline experiments"
   ]
  },
  {
   "cell_type": "markdown",
   "metadata": {},
   "source": [
    "### Call an LLM"
   ]
  },
  {
   "cell_type": "code",
   "execution_count": 2,
   "metadata": {},
   "outputs": [
    {
     "data": {
      "text/plain": [
       "'Why did the scarecrow win an award?\\n\\nBecause he was outstanding in his field!'"
      ]
     },
     "execution_count": 2,
     "metadata": {},
     "output_type": "execute_result"
    }
   ],
   "source": [
    "llm = ChatOpenAI(model='gpt-4o-mini')\n",
    "output_parser = StrOutputParser()\n",
    "output_parser.invoke(llm.invoke('Tell me a joke'))"
   ]
  },
  {
   "cell_type": "markdown",
   "metadata": {},
   "source": [
    "### Creating a chain"
   ]
  },
  {
   "cell_type": "code",
   "execution_count": 3,
   "metadata": {},
   "outputs": [
    {
     "data": {
      "text/plain": [
       "'Why did the scarecrow win an award?\\n\\nBecause he was outstanding in his field!'"
      ]
     },
     "execution_count": 3,
     "metadata": {},
     "output_type": "execute_result"
    }
   ],
   "source": [
    "chain_1 = llm | output_parser\n",
    "chain_1.invoke('Tell me a joke!')"
   ]
  },
  {
   "cell_type": "markdown",
   "metadata": {},
   "source": [
    "### Prompt templating"
   ]
  },
  {
   "cell_type": "code",
   "execution_count": 4,
   "metadata": {},
   "outputs": [
    {
     "data": {
      "text/plain": [
       "ChatPromptValue(messages=[HumanMessage(content='Tell me a funny joke about langchain', additional_kwargs={}, response_metadata={})])"
      ]
     },
     "execution_count": 4,
     "metadata": {},
     "output_type": "execute_result"
    }
   ],
   "source": [
    "prompt = ChatPromptTemplate.from_template(\"Tell me a funny joke about {topic}\")\n",
    "prompt.invoke({'topic':'langchain'})"
   ]
  },
  {
   "cell_type": "code",
   "execution_count": 5,
   "metadata": {},
   "outputs": [
    {
     "data": {
      "text/plain": [
       "'Why did the LangChain developer bring a ladder to work?\\n\\nBecause they heard the API was on a whole new level!'"
      ]
     },
     "execution_count": 5,
     "metadata": {},
     "output_type": "execute_result"
    }
   ],
   "source": [
    "chain_2 = prompt | llm | output_parser\n",
    "chain_2.invoke({'topic':'langchain'})"
   ]
  },
  {
   "cell_type": "markdown",
   "metadata": {},
   "source": [
    "### LLM message templating"
   ]
  },
  {
   "cell_type": "code",
   "execution_count": 6,
   "metadata": {},
   "outputs": [
    {
     "data": {
      "text/plain": [
       "ChatPromptValue(messages=[SystemMessage(content='You are a helpful AI assitant, who answers a given query in a brief manner and then provides a small description of your actions leading to the outcome.', additional_kwargs={}, response_metadata={}), HumanMessage(content='Tell me a joke about a langchain', additional_kwargs={}, response_metadata={})])"
      ]
     },
     "execution_count": 6,
     "metadata": {},
     "output_type": "execute_result"
    }
   ],
   "source": [
    "system = SystemMessagePromptTemplate.from_template('''You are a helpful AI assitant, who answers a given query in a brief manner and then provides a small description of your actions leading to the outcome.''')\n",
    "human = HumanMessagePromptTemplate.from_template('Tell me a joke about a {topic}')\n",
    "\n",
    "\n",
    "prompt_2 = ChatPromptTemplate.from_messages([system,human])\n",
    "prompt_2.invoke({'topic':'langchain'})"
   ]
  },
  {
   "cell_type": "code",
   "execution_count": 7,
   "metadata": {},
   "outputs": [
    {
     "data": {
      "text/plain": [
       "'Why did the langchain break up with its partner?\\n\\nBecause it couldn’t handle all the context! \\n\\nI created this joke by playing on the word \"context,\" which is vital in language processing, and combining it with a humorous relationship twist.'"
      ]
     },
     "execution_count": 7,
     "metadata": {},
     "output_type": "execute_result"
    }
   ],
   "source": [
    "chain_3 = prompt_2 | llm | output_parser\n",
    "chain_3.invoke({'topic':'langchain'})"
   ]
  },
  {
   "cell_type": "markdown",
   "metadata": {},
   "source": [
    "### Document loading and splitting"
   ]
  },
  {
   "cell_type": "code",
   "execution_count": 8,
   "metadata": {},
   "outputs": [],
   "source": [
    "text_splitter = RecursiveCharacterTextSplitter(\n",
    "    chunk_size = 1000,\n",
    "    chunk_overlap = 200,\n",
    "    length_function = len\n",
    ")\n",
    "\n",
    "documents=[]\n",
    "for filename in os.listdir(docx_path):\n",
    "    if filename.endswith(\".docx\"):\n",
    "        file_path = os.path.join(docx_path, filename)\n",
    "        loader = Docx2txtLoader(file_path)\n",
    "        docs = loader.load()\n",
    "        documents.extend(docs)\n",
    "\n",
    "splits = text_splitter.split_documents(documents=documents)"
   ]
  },
  {
   "cell_type": "code",
   "execution_count": 9,
   "metadata": {},
   "outputs": [
    {
     "data": {
      "text/plain": [
       "Document(metadata={'source': '.\\\\data\\\\text_data\\\\The_Evolution_of_Space_Exploration_and_Its_Future_Prospects.docx'}, page_content='The Evolution of Space Exploration and Its Future Prospects\\n\\n# The Evolution of Space Exploration and Its Future Prospects\\n\\n## Introduction  \\nSpace exploration has advanced significantly since the launch of Sputnik in 1957. From manned moon landings to Mars rovers and space telescopes, humanity continues to push the boundaries of exploration. This paper discusses the milestones, challenges, and future prospects of space exploration.\\n\\n## Major Milestones  \\n\\n### 1. The Space Race and Moon Landing  \\nThe Cold War fueled competition between the US and the Soviet Union, culminating in the Apollo 11 moon landing in 1969.\\n\\n### 2. Space Stations and Shuttle Programs  \\nThe International Space Station (ISS) and space shuttles have facilitated long-term research and human presence in space.\\n\\n### 3. Mars Exploration  \\nRovers like Curiosity and Perseverance have provided invaluable data on the Martian surface, fueling future manned missions.')"
      ]
     },
     "execution_count": 9,
     "metadata": {},
     "output_type": "execute_result"
    }
   ],
   "source": [
    "splits[0]"
   ]
  },
  {
   "cell_type": "markdown",
   "metadata": {},
   "source": [
    "### Embedding"
   ]
  },
  {
   "cell_type": "code",
   "execution_count": 10,
   "metadata": {},
   "outputs": [
    {
     "name": "stderr",
     "output_type": "stream",
     "text": [
      "C:\\Users\\harsh\\AppData\\Local\\Temp\\ipykernel_7192\\101951592.py:1: LangChainDeprecationWarning: The class `OpenAIEmbeddings` was deprecated in LangChain 0.0.9 and will be removed in 1.0. An updated version of the class exists in the :class:`~langchain-openai package and should be used instead. To use it run `pip install -U :class:`~langchain-openai` and import as `from :class:`~langchain_openai import OpenAIEmbeddings``.\n",
      "  embeddings_1 = OpenAIEmbeddings()\n"
     ]
    },
    {
     "data": {
      "text/plain": [
       "10"
      ]
     },
     "execution_count": 10,
     "metadata": {},
     "output_type": "execute_result"
    }
   ],
   "source": [
    "embeddings_1 = OpenAIEmbeddings()\n",
    "embeded_docs = embeddings_1.embed_documents([split.page_content for split in splits])\n",
    "len(embeded_docs)"
   ]
  },
  {
   "cell_type": "code",
   "execution_count": 11,
   "metadata": {},
   "outputs": [
    {
     "name": "stderr",
     "output_type": "stream",
     "text": [
      "C:\\Users\\harsh\\AppData\\Local\\Temp\\ipykernel_7192\\2416842990.py:1: LangChainDeprecationWarning: The class `HuggingFaceEmbeddings` was deprecated in LangChain 0.2.2 and will be removed in 1.0. An updated version of the class exists in the :class:`~langchain-huggingface package and should be used instead. To use it run `pip install -U :class:`~langchain-huggingface` and import as `from :class:`~langchain_huggingface import HuggingFaceEmbeddings``.\n",
      "  embeddings_2 = SentenceTransformerEmbeddings(model_name='all-MiniLM-L6-v2')\n"
     ]
    },
    {
     "name": "stdout",
     "output_type": "stream",
     "text": [
      "WARNING:tensorflow:From c:\\Projects\\python\\mainenv\\Lib\\site-packages\\tf_keras\\src\\losses.py:2976: The name tf.losses.sparse_softmax_cross_entropy is deprecated. Please use tf.compat.v1.losses.sparse_softmax_cross_entropy instead.\n",
      "\n"
     ]
    },
    {
     "data": {
      "text/plain": [
       "10"
      ]
     },
     "execution_count": 11,
     "metadata": {},
     "output_type": "execute_result"
    }
   ],
   "source": [
    "embeddings_2 = SentenceTransformerEmbeddings(model_name='all-MiniLM-L6-v2')\n",
    "embeded_docs_2 = embeddings_2.embed_documents([split.page_content for split in splits])\n",
    "len(embeded_docs_2)\n"
   ]
  },
  {
   "cell_type": "markdown",
   "metadata": {},
   "source": [
    "### Storing in a persistant ChromaDB"
   ]
  },
  {
   "cell_type": "code",
   "execution_count": 12,
   "metadata": {},
   "outputs": [],
   "source": [
    "collection_name = 'test1'\n",
    "vectorstore = Chroma.from_documents(documents=splits,embedding=embeddings_1,\n",
    "                                    collection_name=collection_name,persist_directory='./data/chroma_db/',\n",
    "                                    )\n",
    "query = 'What are the challenges of space exploration?'\n",
    "\n",
    "search = vectorstore.similarity_search(query=query,k=2)"
   ]
  },
  {
   "cell_type": "code",
   "execution_count": 13,
   "metadata": {},
   "outputs": [],
   "source": [
    "def deduplicate_vectorstore(vectorstore):\n",
    "    data = vectorstore._collection.get()\n",
    "    all_ids = data.get(\"ids\", [])\n",
    "    all_documents = data.get(\"documents\", [])\n",
    "    \n",
    "    unique_hashes = {}\n",
    "    duplicates = []\n",
    "    \n",
    "    for doc_id, doc in zip(all_ids, all_documents):\n",
    "        if isinstance(doc, str):\n",
    "            content = doc\n",
    "        elif isinstance(doc, dict):\n",
    "            content = doc.get(\"page_content\", \"\")\n",
    "        else:\n",
    "            content = str(doc)\n",
    "            \n",
    "        content_hash = hashlib.md5(content.encode(\"utf-8\")).hexdigest()\n",
    "        if content_hash in unique_hashes:\n",
    "            duplicates.append(doc_id)\n",
    "        else:\n",
    "            unique_hashes[content_hash] = doc_id\n",
    "    \n",
    "    if duplicates:\n",
    "        vectorstore.delete(ids=duplicates)\n",
    "        print(f\"Deleted {len(duplicates)} duplicate document(s) from the vectorstore.\")\n",
    "    else:\n",
    "        print(\"No duplicates found.\")\n"
   ]
  },
  {
   "cell_type": "code",
   "execution_count": 14,
   "metadata": {},
   "outputs": [
    {
     "name": "stdout",
     "output_type": "stream",
     "text": [
      "Deleted 10 duplicate document(s) from the vectorstore.\n"
     ]
    },
    {
     "data": {
      "text/plain": [
       "[Document(id='cc899e74-ff9f-4635-a41c-4ae5af64e211', metadata={'source': '.\\\\data\\\\text_data\\\\The_Evolution_of_Space_Exploration_and_Its_Future_Prospects.docx'}, page_content='### 3. Mars Exploration  \\nRovers like Curiosity and Perseverance have provided invaluable data on the Martian surface, fueling future manned missions.\\n\\n### 4. Commercial Spaceflight  \\nCompanies like SpaceX, Blue Origin, and Virgin Galactic are pioneering private space travel, making it more accessible.\\n\\n## Challenges of Space Exploration  \\n- High costs and funding limitations  \\n- Human health risks due to microgravity and radiation  \\n- Sustainability and long-term habitability of other planets\\n\\n## Future Prospects  \\n- Lunar colonization and NASA’s Artemis Program  \\n- Mars missions and potential colonization  \\n- Advances in propulsion systems for deep-space travel  \\n- Search for extraterrestrial life and interstellar exploration\\n\\n## Conclusion  \\nSpace exploration has come a long way, with promising advancements on the horizon. Continued investment in technology, international collaboration, and sustainability will shape the future of humanity’s presence beyond Earth.'),\n",
       " Document(id='ff9ceadb-dd1c-443a-81c1-fa5aff33ae8e', metadata={'source': '.\\\\data\\\\text_data\\\\The_Evolution_of_Space_Exploration_and_Its_Future_Prospects.docx'}, page_content='The Evolution of Space Exploration and Its Future Prospects\\n\\n# The Evolution of Space Exploration and Its Future Prospects\\n\\n## Introduction  \\nSpace exploration has advanced significantly since the launch of Sputnik in 1957. From manned moon landings to Mars rovers and space telescopes, humanity continues to push the boundaries of exploration. This paper discusses the milestones, challenges, and future prospects of space exploration.\\n\\n## Major Milestones  \\n\\n### 1. The Space Race and Moon Landing  \\nThe Cold War fueled competition between the US and the Soviet Union, culminating in the Apollo 11 moon landing in 1969.\\n\\n### 2. Space Stations and Shuttle Programs  \\nThe International Space Station (ISS) and space shuttles have facilitated long-term research and human presence in space.\\n\\n### 3. Mars Exploration  \\nRovers like Curiosity and Perseverance have provided invaluable data on the Martian surface, fueling future manned missions.'),\n",
       " Document(id='57f59a61-8b82-4055-8f4e-f118f61ebb21', metadata={'source': '.\\\\data\\\\text_data\\\\The_Role_of_Renewable_Energy_in_Combating_Climate_Change.docx'}, page_content='## Challenges and Barriers  \\n- High initial costs  \\n- Storage and intermittency issues  \\n- Policy and regulatory challenges  \\n- Land and resource availability\\n\\n## The Path Forward  \\nInvestments in energy storage solutions, government incentives, and continued technological advancements will drive the transition towards a sustainable energy future.\\n\\n## Conclusion  \\nRenewable energy is a key factor in the fight against climate change. Governments, industries, and individuals must prioritize clean energy adoption to secure a sustainable and resilient planet for future generations.'),\n",
       " Document(id='59f0559f-a5fc-4476-91bb-3a6d62420b82', metadata={'source': '.\\\\data\\\\text_data\\\\The_Future_of_Artificial_Intelligence_in_Healthcare.docx'}, page_content='### 2. AI in Drug Discovery  \\nPharmaceutical companies are leveraging AI to accelerate drug development, predict molecule interactions, and repurpose existing drugs for new treatments.\\n\\n### 3. AI-Powered Robotics in Surgery  \\nRobotic-assisted surgeries enhance precision and reduce recovery times. AI-powered robots assist surgeons by offering real-time feedback, enhancing minimally invasive procedures.\\n\\n### 4. Virtual Health Assistants  \\nChatbots and AI-driven virtual assistants help in patient monitoring, scheduling appointments, and answering queries, improving accessibility and reducing workload on healthcare professionals.\\n\\n## Challenges and Ethical Concerns  \\nDespite its advantages, AI in healthcare faces challenges, including data privacy concerns, regulatory barriers, bias in AI models, and the need for large-scale validation before widespread deployment.'),\n",
       " Document(id='070cbd3c-40a0-442b-a0da-0a48a321377b', metadata={'source': '.\\\\data\\\\text_data\\\\The_Role_of_Renewable_Energy_in_Combating_Climate_Change.docx'}, page_content='The Role of Renewable Energy in Combating Climate Change\\n\\n# The Role of Renewable Energy in Combating Climate Change\\n\\n## Introduction  \\nClimate change is a pressing global crisis, driven primarily by fossil fuel consumption and greenhouse gas emissions. Renewable energy sources, including solar, wind, hydro, and geothermal, offer a sustainable alternative to fossil fuels and play a crucial role in mitigating climate change.\\n\\n## Types of Renewable Energy and Their Impact  \\n\\n### 1. Solar Energy  \\nSolar panels harness energy from the sun to generate electricity. Advancements in photovoltaic technology have made solar power more efficient and accessible.\\n\\n### 2. Wind Energy  \\nWind turbines convert kinetic energy into electricity. Offshore wind farms have significantly increased energy output and reduced dependence on traditional power sources.'),\n",
       " Document(id='040791fc-ebdd-4862-8c9c-0c365affcd40', metadata={'source': '.\\\\data\\\\text_data\\\\The_Psychological_Effects_of_Social_Media_on_Mental_Health.docx'}, page_content='## Negative Psychological Effects  \\n\\n### 1. Anxiety and Depression  \\nExcessive social media use is linked to increased anxiety and depression, often due to unrealistic comparisons and cyberbullying.\\n\\n### 2. Sleep Disruptions  \\nScreen exposure before bedtime affects sleep patterns, leading to fatigue and cognitive impairments.\\n\\n### 3. Addiction and Dopamine Effects  \\nSocial media triggers dopamine release, leading to compulsive behavior and reduced attention spans.\\n\\n## Addressing the Issue  \\n- Setting screen time limits  \\n- Promoting digital literacy and healthy social media habits  \\n- Encouraging real-world interactions and offline activities  \\n- Implementing stricter regulations against harmful content\\n\\n## Conclusion  \\nWhile social media offers significant benefits, excessive use poses mental health risks. Awareness, education, and responsible usage are essential to maximizing its advantages while minimizing psychological harm.'),\n",
       " Document(id='6544f154-734b-4934-ae08-3d811ec369a0', metadata={'source': '.\\\\data\\\\text_data\\\\The_Role_of_Renewable_Energy_in_Combating_Climate_Change.docx'}, page_content='### 2. Wind Energy  \\nWind turbines convert kinetic energy into electricity. Offshore wind farms have significantly increased energy output and reduced dependence on traditional power sources.\\n\\n### 3. Hydropower  \\nDams and water turbines generate electricity by utilizing the energy of flowing water. While effective, concerns about ecosystem disruption require careful planning.\\n\\n### 4. Geothermal Energy  \\nHeat from the Earth’s core is harnessed to produce electricity and heating solutions, making it a reliable and sustainable energy source.\\n\\n## Benefits of Renewable Energy  \\n- **Reduction of Carbon Footprint**: Replacing fossil fuels with renewable energy reduces greenhouse gas emissions.  \\n- **Energy Independence**: Countries can reduce reliance on imported fuels.  \\n- **Job Creation**: Renewable energy sectors contribute to economic growth and employment opportunities.  \\n- **Environmental Preservation**: Sustainable energy reduces air and water pollution.'),\n",
       " Document(id='7348fa95-5672-40ce-8245-c605ce665cdc', metadata={'source': '.\\\\data\\\\text_data\\\\The_Future_of_Artificial_Intelligence_in_Healthcare.docx'}, page_content='## Future Implications  \\nThe future of AI in healthcare promises personalized medicine, AI-driven mental health support, improved diagnostics, and AI-assisted administrative efficiencies, transforming patient care worldwide.\\n\\n## Conclusion  \\nAI is set to become a crucial component of modern healthcare, ensuring improved diagnostics, treatment, and patient experience. However, ethical considerations, transparency, and regulatory frameworks must be established to ensure responsible AI deployment in healthcare.'),\n",
       " Document(id='14f5897a-1391-46e8-a01c-c398d0d7f4d5', metadata={'source': '.\\\\data\\\\text_data\\\\The_Future_of_Artificial_Intelligence_in_Healthcare.docx'}, page_content='The Future of Artificial Intelligence in Healthcare\\n\\n# The Future of Artificial Intelligence in Healthcare\\n\\n## Introduction  \\nArtificial Intelligence (AI) is revolutionizing the healthcare industry by enhancing diagnosis, treatment, and patient care. With the rise of machine learning, deep learning, and big data, AI has demonstrated immense potential to improve medical outcomes, optimize hospital operations, and assist healthcare professionals. This paper explores AI’s applications, benefits, challenges, and future implications in healthcare.\\n\\n## AI Applications in Healthcare  \\n\\n### 1. AI in Diagnosis and Imaging  \\nAI-driven models analyze medical images like X-rays, MRIs, and CT scans to detect diseases such as cancer and neurological disorders more accurately and swiftly than traditional methods.\\n\\n### 2. AI in Drug Discovery  \\nPharmaceutical companies are leveraging AI to accelerate drug development, predict molecule interactions, and repurpose existing drugs for new treatments.'),\n",
       " Document(id='ea2651ef-8589-4aca-862f-87a8330a49e5', metadata={'source': '.\\\\data\\\\text_data\\\\The_Psychological_Effects_of_Social_Media_on_Mental_Health.docx'}, page_content='The Psychological Effects of Social Media on Mental Health\\n\\n# The Psychological Effects of Social Media on Mental Health\\n\\n## Introduction  \\nSocial media has transformed how people communicate, interact, and consume information. While platforms like Facebook, Instagram, Twitter, and TikTok offer connectivity and entertainment, they also pose risks to mental health.\\n\\n## Positive Psychological Effects  \\n\\n### 1. Social Connectivity  \\nSocial media enables people to stay connected with friends, family, and professional networks, reducing loneliness and fostering relationships.\\n\\n### 2. Access to Information and Support Groups  \\nUsers can access mental health resources, online support groups, and self-help communities that provide guidance and emotional support.\\n\\n### 3. Creativity and Self-Expression  \\nPlatforms allow users to share artistic creations, opinions, and personal experiences, fostering creativity and community engagement.\\n\\n## Negative Psychological Effects')]"
      ]
     },
     "execution_count": 14,
     "metadata": {},
     "output_type": "execute_result"
    }
   ],
   "source": [
    "deduplicate_vectorstore(vectorstore)\n",
    "search = vectorstore.similarity_search(query=query,k=10)\n",
    "search"
   ]
  },
  {
   "cell_type": "markdown",
   "metadata": {},
   "source": [
    "### Retreiver"
   ]
  },
  {
   "cell_type": "code",
   "execution_count": 15,
   "metadata": {},
   "outputs": [
    {
     "data": {
      "text/plain": [
       "[Document(id='cc899e74-ff9f-4635-a41c-4ae5af64e211', metadata={'source': '.\\\\data\\\\text_data\\\\The_Evolution_of_Space_Exploration_and_Its_Future_Prospects.docx'}, page_content='### 3. Mars Exploration  \\nRovers like Curiosity and Perseverance have provided invaluable data on the Martian surface, fueling future manned missions.\\n\\n### 4. Commercial Spaceflight  \\nCompanies like SpaceX, Blue Origin, and Virgin Galactic are pioneering private space travel, making it more accessible.\\n\\n## Challenges of Space Exploration  \\n- High costs and funding limitations  \\n- Human health risks due to microgravity and radiation  \\n- Sustainability and long-term habitability of other planets\\n\\n## Future Prospects  \\n- Lunar colonization and NASA’s Artemis Program  \\n- Mars missions and potential colonization  \\n- Advances in propulsion systems for deep-space travel  \\n- Search for extraterrestrial life and interstellar exploration\\n\\n## Conclusion  \\nSpace exploration has come a long way, with promising advancements on the horizon. Continued investment in technology, international collaboration, and sustainability will shape the future of humanity’s presence beyond Earth.'),\n",
       " Document(id='ff9ceadb-dd1c-443a-81c1-fa5aff33ae8e', metadata={'source': '.\\\\data\\\\text_data\\\\The_Evolution_of_Space_Exploration_and_Its_Future_Prospects.docx'}, page_content='The Evolution of Space Exploration and Its Future Prospects\\n\\n# The Evolution of Space Exploration and Its Future Prospects\\n\\n## Introduction  \\nSpace exploration has advanced significantly since the launch of Sputnik in 1957. From manned moon landings to Mars rovers and space telescopes, humanity continues to push the boundaries of exploration. This paper discusses the milestones, challenges, and future prospects of space exploration.\\n\\n## Major Milestones  \\n\\n### 1. The Space Race and Moon Landing  \\nThe Cold War fueled competition between the US and the Soviet Union, culminating in the Apollo 11 moon landing in 1969.\\n\\n### 2. Space Stations and Shuttle Programs  \\nThe International Space Station (ISS) and space shuttles have facilitated long-term research and human presence in space.\\n\\n### 3. Mars Exploration  \\nRovers like Curiosity and Perseverance have provided invaluable data on the Martian surface, fueling future manned missions.')]"
      ]
     },
     "execution_count": 15,
     "metadata": {},
     "output_type": "execute_result"
    }
   ],
   "source": [
    "retriever = vectorstore.as_retriever(search_kwargs={'k':2})\n",
    "retriever.invoke('What are the challenges of space exploration?')"
   ]
  },
  {
   "cell_type": "markdown",
   "metadata": {},
   "source": [
    "## RAG pipeline"
   ]
  },
  {
   "cell_type": "markdown",
   "metadata": {},
   "source": [
    "### Helper code"
   ]
  },
  {
   "cell_type": "code",
   "execution_count": 16,
   "metadata": {},
   "outputs": [
    {
     "name": "stdout",
     "output_type": "stream",
     "text": [
      "Deleted 10 duplicate document(s) from the vectorstore.\n"
     ]
    }
   ],
   "source": [
    "def deduplicate_vectorstore(vectorstore):\n",
    "    data = vectorstore._collection.get()\n",
    "    all_ids = data.get(\"ids\", [])\n",
    "    all_documents = data.get(\"documents\", [])\n",
    "    \n",
    "    unique_hashes = {}\n",
    "    duplicates = []\n",
    "    \n",
    "    for doc_id, doc in zip(all_ids, all_documents):\n",
    "        if isinstance(doc, str):\n",
    "            content = doc\n",
    "        elif isinstance(doc, dict):\n",
    "            content = doc.get(\"page_content\", \"\")\n",
    "        else:\n",
    "            content = str(doc)\n",
    "            \n",
    "        content_hash = hashlib.md5(content.encode(\"utf-8\")).hexdigest()\n",
    "        if content_hash in unique_hashes:\n",
    "            duplicates.append(doc_id)\n",
    "        else:\n",
    "            unique_hashes[content_hash] = doc_id\n",
    "    \n",
    "    if duplicates:\n",
    "        vectorstore.delete(ids=duplicates)\n",
    "        print(f\"Deleted {len(duplicates)} duplicate document(s) from the vectorstore.\")\n",
    "    else:\n",
    "        print(\"No duplicates found.\")\n",
    "\n",
    "def docs2str(docs):\n",
    "    return '\\n\\n'.join(doc.page_content for doc in docs)\n",
    "\n",
    "text_splitter = RecursiveCharacterTextSplitter(\n",
    "    chunk_size = 1000,\n",
    "    chunk_overlap = 200,\n",
    "    length_function = len\n",
    ")\n",
    "\n",
    "documents=[]\n",
    "for filename in os.listdir(docx_path):\n",
    "    if filename.endswith(\".docx\"):\n",
    "        file_path = os.path.join(docx_path, filename)\n",
    "        loader = Docx2txtLoader(file_path)\n",
    "        docs = loader.load()\n",
    "        documents.extend(docs)\n",
    "\n",
    "splits = text_splitter.split_documents(documents=documents)\n",
    "\n",
    "collection_name = 'test1'\n",
    "vectorstore = Chroma.from_documents(documents=splits,embedding=OpenAIEmbeddings(),\n",
    "                                    collection_name=collection_name,persist_directory='./data/chroma_db/',\n",
    "                                    )\n",
    "deduplicate_vectorstore(vectorstore)"
   ]
  },
  {
   "cell_type": "markdown",
   "metadata": {},
   "source": [
    "### Main"
   ]
  },
  {
   "cell_type": "code",
   "execution_count": 17,
   "metadata": {},
   "outputs": [
    {
     "name": "stdout",
     "output_type": "stream",
     "text": [
      "The challenges of space exploration include high costs and funding limitations, human health risks due to microgravity and radiation, and sustainability and long-term habitability of other planets. Additionally, there are storage and intermittency issues, policy and regulatory challenges, and land and resource availability that pose barriers to space exploration.\n"
     ]
    }
   ],
   "source": [
    "system = SystemMessagePromptTemplate.from_template('''You are a helpful AI assitant, who answers a given query based on the context provided, in a brief manner and then provides a small description of your actions leading to the outcome.\\nContext: \\n\\n{context}''')\n",
    "human = HumanMessagePromptTemplate.from_template('Query: {query}')\n",
    "\n",
    "retriever = vectorstore.as_retriever(search_kwargs={'k':3})\n",
    "llm = ChatOpenAI(model='gpt-4o-mini')\n",
    "llm_2 = ChatGroq(model=\"mixtral-8x7b-32768\")\n",
    "prompt_3 = ChatPromptTemplate.from_messages([system,human])\n",
    "\n",
    "rag_chain = (\n",
    "\n",
    "    {'context': retriever | docs2str, 'query': RunnablePassthrough() }\n",
    "    | prompt_3\n",
    "    | llm_2\n",
    "    | StrOutputParser()\n",
    "\n",
    ")\n",
    "\n",
    "query = 'What are the challenges of space exploration?'\n",
    "response = rag_chain.invoke(query)\n",
    "print(response)"
   ]
  },
  {
   "cell_type": "markdown",
   "metadata": {},
   "source": [
    "## Context Aware Retreival experiments"
   ]
  },
  {
   "cell_type": "markdown",
   "metadata": {},
   "source": [
    "### Save chat history"
   ]
  },
  {
   "cell_type": "code",
   "execution_count": 18,
   "metadata": {},
   "outputs": [
    {
     "data": {
      "text/plain": [
       "[HumanMessage(content='What are the challenges of space exploration?', additional_kwargs={}, response_metadata={}),\n",
       " AIMessage(content='The challenges of space exploration include high costs and funding limitations, human health risks due to microgravity and radiation, and sustainability and long-term habitability of other planets. Additionally, there are storage and intermittency issues, policy and regulatory challenges, and land and resource availability that pose barriers to space exploration.', additional_kwargs={}, response_metadata={})]"
      ]
     },
     "execution_count": 18,
     "metadata": {},
     "output_type": "execute_result"
    }
   ],
   "source": [
    "chat_history = []\n",
    "chat_history.extend(\n",
    "    [HumanMessage(content=query),\n",
    "    AIMessage(content=response)]\n",
    ")\n",
    "\n",
    "chat_history"
   ]
  },
  {
   "cell_type": "markdown",
   "metadata": {},
   "source": [
    "### Generate as per chat history"
   ]
  },
  {
   "cell_type": "code",
   "execution_count": 19,
   "metadata": {},
   "outputs": [
    {
     "data": {
      "text/plain": [
       "'The Mars rovers include several missions, with some of the most well-known being Spirit, Opportunity, Curiosity, and Perseverance. Each of these rovers has contributed significantly to our understanding of Mars.'"
      ]
     },
     "execution_count": 19,
     "metadata": {},
     "output_type": "execute_result"
    }
   ],
   "source": [
    "system_2 = SystemMessagePromptTemplate.from_template('Answer the query based on chat history provided:\\nChat history: {chat_history}')\n",
    "human_2 = HumanMessagePromptTemplate.from_template('Query: {input}')\n",
    "\n",
    "contextualized_prompt = ChatPromptTemplate.from_messages([system_2,human_2])\n",
    "\n",
    "contextual_chain = (\n",
    "    contextualized_prompt\n",
    "    | llm\n",
    "    | StrOutputParser()\n",
    ")\n",
    "\n",
    "query = \"What was the name of Mars Rover?\"\n",
    "response_2=contextual_chain.invoke({'chat_history': chat_history, 'input': query})\n",
    "chat_history.extend(\n",
    "    [HumanMessage(content=query),\n",
    "     AIMessage(content=response_2)]\n",
    ")\n",
    "response_2\n"
   ]
  },
  {
   "cell_type": "code",
   "execution_count": 20,
   "metadata": {},
   "outputs": [
    {
     "data": {
      "text/plain": [
       "ChatPromptTemplate(input_variables=['chat_history', 'input'], input_types={}, partial_variables={}, messages=[SystemMessagePromptTemplate(prompt=PromptTemplate(input_variables=['chat_history'], input_types={}, partial_variables={}, template='Answer the query based on chat history provided:\\nChat history: {chat_history}'), additional_kwargs={}), HumanMessagePromptTemplate(prompt=PromptTemplate(input_variables=['input'], input_types={}, partial_variables={}, template='Query: {input}'), additional_kwargs={})])"
      ]
     },
     "execution_count": 20,
     "metadata": {},
     "output_type": "execute_result"
    }
   ],
   "source": [
    "contextualized_prompt"
   ]
  },
  {
   "cell_type": "code",
   "execution_count": 21,
   "metadata": {},
   "outputs": [
    {
     "data": {
      "text/plain": [
       "[Document(id='cc899e74-ff9f-4635-a41c-4ae5af64e211', metadata={'source': '.\\\\data\\\\text_data\\\\The_Evolution_of_Space_Exploration_and_Its_Future_Prospects.docx'}, page_content='### 3. Mars Exploration  \\nRovers like Curiosity and Perseverance have provided invaluable data on the Martian surface, fueling future manned missions.\\n\\n### 4. Commercial Spaceflight  \\nCompanies like SpaceX, Blue Origin, and Virgin Galactic are pioneering private space travel, making it more accessible.\\n\\n## Challenges of Space Exploration  \\n- High costs and funding limitations  \\n- Human health risks due to microgravity and radiation  \\n- Sustainability and long-term habitability of other planets\\n\\n## Future Prospects  \\n- Lunar colonization and NASA’s Artemis Program  \\n- Mars missions and potential colonization  \\n- Advances in propulsion systems for deep-space travel  \\n- Search for extraterrestrial life and interstellar exploration\\n\\n## Conclusion  \\nSpace exploration has come a long way, with promising advancements on the horizon. Continued investment in technology, international collaboration, and sustainability will shape the future of humanity’s presence beyond Earth.'),\n",
       " Document(id='ff9ceadb-dd1c-443a-81c1-fa5aff33ae8e', metadata={'source': '.\\\\data\\\\text_data\\\\The_Evolution_of_Space_Exploration_and_Its_Future_Prospects.docx'}, page_content='The Evolution of Space Exploration and Its Future Prospects\\n\\n# The Evolution of Space Exploration and Its Future Prospects\\n\\n## Introduction  \\nSpace exploration has advanced significantly since the launch of Sputnik in 1957. From manned moon landings to Mars rovers and space telescopes, humanity continues to push the boundaries of exploration. This paper discusses the milestones, challenges, and future prospects of space exploration.\\n\\n## Major Milestones  \\n\\n### 1. The Space Race and Moon Landing  \\nThe Cold War fueled competition between the US and the Soviet Union, culminating in the Apollo 11 moon landing in 1969.\\n\\n### 2. Space Stations and Shuttle Programs  \\nThe International Space Station (ISS) and space shuttles have facilitated long-term research and human presence in space.\\n\\n### 3. Mars Exploration  \\nRovers like Curiosity and Perseverance have provided invaluable data on the Martian surface, fueling future manned missions.'),\n",
       " Document(id='59f0559f-a5fc-4476-91bb-3a6d62420b82', metadata={'source': '.\\\\data\\\\text_data\\\\The_Future_of_Artificial_Intelligence_in_Healthcare.docx'}, page_content='### 2. AI in Drug Discovery  \\nPharmaceutical companies are leveraging AI to accelerate drug development, predict molecule interactions, and repurpose existing drugs for new treatments.\\n\\n### 3. AI-Powered Robotics in Surgery  \\nRobotic-assisted surgeries enhance precision and reduce recovery times. AI-powered robots assist surgeons by offering real-time feedback, enhancing minimally invasive procedures.\\n\\n### 4. Virtual Health Assistants  \\nChatbots and AI-driven virtual assistants help in patient monitoring, scheduling appointments, and answering queries, improving accessibility and reducing workload on healthcare professionals.\\n\\n## Challenges and Ethical Concerns  \\nDespite its advantages, AI in healthcare faces challenges, including data privacy concerns, regulatory barriers, bias in AI models, and the need for large-scale validation before widespread deployment.')]"
      ]
     },
     "execution_count": 21,
     "metadata": {},
     "output_type": "execute_result"
    }
   ],
   "source": [
    "history_aware_retriever = create_history_aware_retriever(llm, retriever, contextualized_prompt)\n",
    "\n",
    "history_aware_retriever.invoke({'chat_history': chat_history,'input': 'What was the name of the mission?'})"
   ]
  },
  {
   "cell_type": "markdown",
   "metadata": {},
   "source": [
    "### Final retriever"
   ]
  },
  {
   "cell_type": "code",
   "execution_count": 26,
   "metadata": {},
   "outputs": [],
   "source": [
    "system_3 = SystemMessagePromptTemplate.from_template('Answer the query based on chat history provided:\\nChat history: {chat_history}')\n",
    "system_4 = SystemMessagePromptTemplate.from_template('Additional context: {context}')\n",
    "human_3 = HumanMessagePromptTemplate.from_template('Query: {input}')\n",
    "qa_prompt = ChatPromptTemplate.from_messages([system_3,human_3,system_4])\n",
    "qa_chain = create_stuff_documents_chain(llm=llm,prompt=qa_prompt)\n",
    "rag_chain_2 = create_retrieval_chain(history_aware_retriever,qa_chain)\n",
    "\n",
    "response_3 = rag_chain_2.invoke({'chat_history': chat_history,'input': 'Name two mars missions.'})\n"
   ]
  },
  {
   "cell_type": "code",
   "execution_count": 28,
   "metadata": {},
   "outputs": [
    {
     "data": {
      "text/plain": [
       "'Two Mars missions are the Curiosity rover and the Perseverance rover.'"
      ]
     },
     "execution_count": 28,
     "metadata": {},
     "output_type": "execute_result"
    }
   ],
   "source": [
    "response_3['answer']"
   ]
  }
 ],
 "metadata": {
  "kernelspec": {
   "display_name": "mainenv",
   "language": "python",
   "name": "python3"
  },
  "language_info": {
   "codemirror_mode": {
    "name": "ipython",
    "version": 3
   },
   "file_extension": ".py",
   "mimetype": "text/x-python",
   "name": "python",
   "nbconvert_exporter": "python",
   "pygments_lexer": "ipython3",
   "version": "3.11.0"
  }
 },
 "nbformat": 4,
 "nbformat_minor": 2
}
